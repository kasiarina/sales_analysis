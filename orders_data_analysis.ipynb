{
 "cells": [
  {
   "cell_type": "code",
   "execution_count": 1,
   "id": "3eca866f-7610-493c-8136-32ae5d180aea",
   "metadata": {},
   "outputs": [],
   "source": [
    "# Import libraries\n",
    "import pandas as pd\n",
    "import sqlalchemy as sal"
   ]
  },
  {
   "cell_type": "code",
   "execution_count": 2,
   "id": "15846592-5146-4046-b462-7b3b685849f0",
   "metadata": {},
   "outputs": [],
   "source": [
    "# Import data\n",
    "df = pd.read_csv('orders.csv', na_values = ['Not Available', 'unknown'])"
   ]
  },
  {
   "cell_type": "code",
   "execution_count": 5,
   "id": "217cc21e-2aa4-48b8-98eb-07c1d373ceab",
   "metadata": {},
   "outputs": [],
   "source": [
    "# Standardize column names\n",
    "df.columns = df.columns.str.lower()\n",
    "df.columns = df.columns.str.replace(' ','_')"
   ]
  },
  {
   "cell_type": "code",
   "execution_count": 7,
   "id": "a50e3b4a-b187-4d4e-985d-9c1f071dd0a7",
   "metadata": {},
   "outputs": [],
   "source": [
    "# Create new columns\n",
    "df['discount']=df['list_price']*df['discount_percent']*.01\n",
    "df['sale_price']=df['list_price']-df['discount']\n",
    "df['profit']=df['sale_price']-df['cost_price']"
   ]
  },
  {
   "cell_type": "code",
   "execution_count": 9,
   "id": "29a2a2a5-cfb2-4e58-8ccc-9ae64bbc35e6",
   "metadata": {},
   "outputs": [],
   "source": [
    "# Convert date column to datetime\n",
    "df['order_date'] = pd.to_datetime(df['order_date'],format=\"%Y-%m-%d\")"
   ]
  },
  {
   "cell_type": "code",
   "execution_count": 11,
   "id": "7363a5ce-7f27-4d78-81c5-1279d4ba6c2a",
   "metadata": {},
   "outputs": [],
   "source": [
    "# Drop unnecessary columns\n",
    "df.drop(columns=['list_price', 'cost_price', 'discount_percent'], inplace=True)"
   ]
  },
  {
   "cell_type": "code",
   "execution_count": 13,
   "id": "667f3db1-0a87-4be0-96af-f6fd263cfd97",
   "metadata": {},
   "outputs": [
    {
     "data": {
      "text/plain": [
       "order_id                 int64\n",
       "order_date      datetime64[ns]\n",
       "ship_mode               object\n",
       "segment                 object\n",
       "country                 object\n",
       "city                    object\n",
       "state                   object\n",
       "postal_code              int64\n",
       "region                  object\n",
       "category                object\n",
       "sub_category            object\n",
       "product_id              object\n",
       "quantity                 int64\n",
       "discount               float64\n",
       "sale_price             float64\n",
       "profit                 float64\n",
       "dtype: object"
      ]
     },
     "execution_count": 13,
     "metadata": {},
     "output_type": "execute_result"
    }
   ],
   "source": [
    "# Check data types\n",
    "df.dtypes"
   ]
  },
  {
   "cell_type": "code",
   "execution_count": 23,
   "id": "7480d406-23ed-49bd-ac44-684786abe3ae",
   "metadata": {},
   "outputs": [],
   "source": [
    "# Connect to SQL Server\n",
    "engine = sal.create_engine('mssql://LAPTOP-OB3NU1L4\\\\SQLEXPRESS/master?driver=ODBC+DRIVER+17+FOR+SQL+SERVER')\n",
    "conn=engine.connect()"
   ]
  },
  {
   "cell_type": "code",
   "execution_count": 25,
   "id": "2141ad74-54d7-4eb0-bd77-1e015c8e5e74",
   "metadata": {},
   "outputs": [
    {
     "data": {
      "text/plain": [
       "38"
      ]
     },
     "execution_count": 25,
     "metadata": {},
     "output_type": "execute_result"
    }
   ],
   "source": [
    "# Import cleaned dataset to database\n",
    "df.to_sql('df_orders', con=conn, index=False, if_exists = 'replace')"
   ]
  },
  {
   "cell_type": "code",
   "execution_count": 27,
   "id": "044257cc-e34c-4b0d-a616-4a4753ed18ff",
   "metadata": {},
   "outputs": [],
   "source": []
  },
  {
   "cell_type": "code",
   "execution_count": null,
   "id": "200a5fa7-d245-405a-8894-3841ff560e5f",
   "metadata": {},
   "outputs": [],
   "source": []
  }
 ],
 "metadata": {
  "kernelspec": {
   "display_name": "Python [conda env:base] *",
   "language": "python",
   "name": "conda-base-py"
  },
  "language_info": {
   "codemirror_mode": {
    "name": "ipython",
    "version": 3
   },
   "file_extension": ".py",
   "mimetype": "text/x-python",
   "name": "python",
   "nbconvert_exporter": "python",
   "pygments_lexer": "ipython3",
   "version": "3.12.7"
  }
 },
 "nbformat": 4,
 "nbformat_minor": 5
}
